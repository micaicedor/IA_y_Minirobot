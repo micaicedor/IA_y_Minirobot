{
  "cells": [
    {
      "cell_type": "markdown",
      "metadata": {
        "id": "mIU9e2tKD_qg"
      },
      "source": [
        "Johana Tellez-Michael Caicedo\n",
        "##Preparación de datos"
      ]
    },
    {
      "cell_type": "code",
      "execution_count": 2,
      "metadata": {
        "colab": {
          "base_uri": "https://localhost:8080/"
        },
        "id": "4ovKpfgl8ZMk",
        "outputId": "f51934a0-93b0-43cc-f409-a5bd206ff84d"
      },
      "outputs": [
        {
          "name": "stdout",
          "output_type": "stream",
          "text": [
            "Tamaño de los conjuntos:\n",
            "Entrenamiento: (35000, 8) (35000, 4)\n",
            "Prueba: (15000, 8) (15000, 4)\n"
          ]
        }
      ],
      "source": [
        "import numpy as np\n",
        "from sklearn.model_selection import train_test_split\n",
        "\n",
        "# Número de ejemplos\n",
        "n = 50000\n",
        "\n",
        "# Listas para guardar los datos\n",
        "X = []  # Entradas (valores de A y B)\n",
        "y = []  # Salidas (resultado C = A×B)\n",
        "\n",
        "for _ in range(n):\n",
        "    # Generar matrices 2x2 con valores aleatorios entre -20 y 20\n",
        "    A = np.random.randint(-20, 21, (2, 2))\n",
        "    B = np.random.randint(-20, 21, (2, 2))\n",
        "\n",
        "    # Calcular el resultado\n",
        "    C = np.dot(A, B)\n",
        "\n",
        "    # Guardar datos\n",
        "    X.append(np.concatenate((A.flatten(), B.flatten())))  # 8 valores de entrada\n",
        "    y.append(C.flatten())  # 4 valores de salida\n",
        "\n",
        "# Convertir listas a arrays de numpy\n",
        "X = np.array(X)\n",
        "y = np.array(y)\n",
        "\n",
        "# Dividir en 70% entrenamiento y 30% prueba\n",
        "X_train, X_test, y_train, y_test = train_test_split(X, y, test_size=0.3, random_state=42)\n",
        "\n",
        "print(\"Tamaño de los conjuntos:\")\n",
        "print(\"Entrenamiento:\", X_train.shape, y_train.shape)\n",
        "print(\"Prueba:\", X_test.shape, y_test.shape)\n",
        "\n"
      ]
    },
    {
      "cell_type": "markdown",
      "metadata": {
        "id": "XAKSlk3EEiNi"
      },
      "source": [
        "##Codigo para entrenar el modelo y probarlo"
      ]
    },
    {
      "cell_type": "code",
      "execution_count": 6,
      "metadata": {
        "colab": {
          "base_uri": "https://localhost:8080/"
        },
        "id": "_vt5kvsqJ4L5",
        "outputId": "11b7305f-7d30-426f-f4dd-6dcada68d0e0"
      },
      "outputs": [
        {
          "name": "stdout",
          "output_type": "stream",
          "text": [
            "Evaluación del modelo (con PolynomialFeatures):\n",
            "Error cuadrático medio (MSE): 0.0000000000\n",
            "Coeficiente de determinación (R²): 1.0000000000\n",
            "\n",
            "Ejemplo 1\n",
            "Matriz A:\n",
            "[[-13  -7]\n",
            " [ 16 -18]]\n",
            "Matriz B:\n",
            "[[ 6  6]\n",
            " [19 13]]\n",
            "Predicho (C = A × B):\n",
            "[[-211. -169.]\n",
            " [-246. -138.]]\n",
            "Real (C verdadero):\n",
            "[[-211 -169]\n",
            " [-246 -138]]\n",
            "----------------------------------------\n",
            "\n",
            "Ejemplo 2\n",
            "Matriz A:\n",
            "[[-11  20]\n",
            " [ -8   5]]\n",
            "Matriz B:\n",
            "[[  6  15]\n",
            " [ 19 -12]]\n",
            "Predicho (C = A × B):\n",
            "[[ 314. -405.]\n",
            " [  47. -180.]]\n",
            "Real (C verdadero):\n",
            "[[ 314 -405]\n",
            " [  47 -180]]\n",
            "----------------------------------------\n",
            "\n",
            "Ejemplo 3\n",
            "Matriz A:\n",
            "[[-1  2]\n",
            " [-8 20]]\n",
            "Matriz B:\n",
            "[[-20   3]\n",
            " [ 20  -9]]\n",
            "Predicho (C = A × B):\n",
            "[[  60.  -21.]\n",
            " [ 560. -204.]]\n",
            "Real (C verdadero):\n",
            "[[  60  -21]\n",
            " [ 560 -204]]\n",
            "----------------------------------------\n",
            "\n",
            "Ejemplo 4\n",
            "Matriz A:\n",
            "[[ 12 -13]\n",
            " [-16  15]]\n",
            "Matriz B:\n",
            "[[10 13]\n",
            " [10 -1]]\n",
            "Predicho (C = A × B):\n",
            "[[ -10.  169.]\n",
            " [ -10. -223.]]\n",
            "Real (C verdadero):\n",
            "[[ -10  169]\n",
            " [ -10 -223]]\n",
            "----------------------------------------\n"
          ]
        }
      ],
      "source": [
        "from sklearn.preprocessing import PolynomialFeatures\n",
        "from sklearn.linear_model import LinearRegression\n",
        "from sklearn.pipeline import make_pipeline\n",
        "from sklearn.metrics import mean_squared_error, r2_score\n",
        "import numpy as np\n",
        "\n",
        "# Crear el pipeline: genera las combinaciones entre variables (grado 2) + regresión lineal\n",
        "modelo = make_pipeline(\n",
        "    PolynomialFeatures(degree=2, include_bias=False),\n",
        "    LinearRegression()\n",
        ")\n",
        "\n",
        "# Entrenar el modelo con los datos de entrenamiento\n",
        "modelo.fit(X_train, y_train)\n",
        "\n",
        "# Evaluar el modelo con los datos de prueba\n",
        "y_pred = modelo.predict(X_test)\n",
        "\n",
        "# Calcular métricas de rendimiento\n",
        "mse = mean_squared_error(y_test, y_pred)\n",
        "r2 = r2_score(y_test, y_pred)\n",
        "\n",
        "print(\"Evaluación del modelo (con PolynomialFeatures):\")\n",
        "print(f\"Error cuadrático medio (MSE): {mse:.10f}\")\n",
        "print(f\"Coeficiente de determinación (R²): {r2:.10f}\")\n",
        "\n",
        "# Mostrar algunas comparaciones reales vs predichas, incluyendo matrices A y B\n",
        "for i in range(4):\n",
        "    print(f\"\\nEjemplo {i+1}\")\n",
        "\n",
        "    # Reconstruir matrices A y B desde los 8 valores de entrada\n",
        "    entrada = X_test[i]\n",
        "    A = entrada[:4].reshape(2, 2)\n",
        "    B = entrada[4:].reshape(2, 2)\n",
        "\n",
        "    print(\"Matriz A:\")\n",
        "    print(A)\n",
        "    print(\"Matriz B:\")\n",
        "    print(B)\n",
        "\n",
        "    print(\"Predicho (C = A × B):\")\n",
        "    print(np.round(y_pred[i].reshape(2, 2), 2))\n",
        "    print(\"Real (C verdadero):\")\n",
        "    print(y_test[i].reshape(2, 2))\n",
        "    print(\"-\" * 40)\n"
      ]
    },
    {
      "cell_type": "markdown",
      "metadata": {
        "id": "OIc_fxeTKL-b"
      },
      "source": [
        "##Análisis de resultados\n",
        "El modelo de regresión potenciado con características polinómicas de segundo grado demostró un desempeño sobresaliente en la predicción de los resultados de la multiplicación de matrices 2×2. Las métricas obtenidas reflejan un error cuadrático medio prácticamente nulo y un coeficiente de determinación cercano a uno, lo que evidencia que el modelo logró aprender con gran precisión la relación matemática existente entre las variables de entrada y salida"
      ]
    }
  ],
  "metadata": {
    "colab": {
      "provenance": []
    },
    "kernelspec": {
      "display_name": "Python 3",
      "name": "python3"
    },
    "language_info": {
      "name": "python"
    }
  },
  "nbformat": 4,
  "nbformat_minor": 0
}
